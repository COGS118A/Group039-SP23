{
 "cells": [
  {
   "cell_type": "markdown",
   "metadata": {},
   "source": [
    "# COGS 118A- Project Proposal"
   ]
  },
  {
   "cell_type": "markdown",
   "metadata": {},
   "source": [
    "# Names\n",
    "\n",
    "- Clarissa Gutierrez\n",
    "- Cardiff Jiang\n",
    "- Daniel Ramirez "
   ]
  },
  {
   "cell_type": "markdown",
   "metadata": {},
   "source": [
    "# Abstract \n",
    "\n",
    "More than 10% of the U.S. population suffer from diabetes and misdiagnosis is quite common and can lead to devastating effects on people’s lives. We aim to determine the medical or demographic feature(s) that could be used as a strong predictor for developing diabetes (accuracy over 80%). The design features are gender (male or female), age (integer), hypertension (yes or no), heat disease (yes or no), smoking history (six categories), body mass index (BMI, in float), Hb1Ac (sugar attached to hemoglobin) level (float), blood glucose level (integers). The label is the person had developed diabetes or not. We will start with statistical explorations such as principal component analysis (PCA) to find the subset of features that capture the most amount of variance, train multiple algorithms such as logistic regression and SVM and models using nested cross validation, and report the benchmark and solution models. We will measure these two models’ performance based on three metrics. They are accuracy as it can be easily interpreted by physicians and patients, ROC-AUC as it is commonly used in the machine learning field, and on the precision-recall curve as we want to avoid as many false negatives as possible."
   ]
  },
  {
   "cell_type": "markdown",
   "metadata": {},
   "source": [
    "# Background\n",
    "\n",
    "Diabetes is a chronic, metabolic disease characterized by elevated levels of blood glucose, also known as blood sugar, which leads over time to serious damage to the heart, blood vessels, eyes, kidneys and nerves <a name=\"diabetes\"></a>[<sup>[1]</sup>](#diabetes_definition). Diabetes can affect the physical, mental, and emotional well-being of individuals. Failure to effectively manage this condition can result in a range of complications. According to the National Diabetes Statistics Report, there are 37.7 million individuals in the United States who have diabetes. This means that approximately 1 in 10 Americans are affected by this disease. Additionally, it is noteworthy that around 1 in 5 people with diabetes remain unaware of their condition<a name=\"report\"></a>[<sup>[2]</sup>](#reportnote).\n",
    "\n",
    "There has been considerable prior work conducted. Numerous studies have focused on identifying risk factors to assess the probability of diabetes occurrence. These investigations have explored a wide range of variables, including demographic information, lifestyle factors, medical history  and clinical markers. Machine learning and statistical techniques have been applied to analyze large datasets. The goal has been to improve early detection, and prevention strategies to effectively manage and mitigate the impact of diabetes. \n",
    "\n",
    "Our objective is to develop a reliable predictive model that can assess the probability of an individual developing diabetes based on various risk factors. By investigating this question, we can take proactive steps to improve public health, enhance individual well-being, and reduce the burden of this chronic condition on society.\n"
   ]
  },
  {
   "cell_type": "markdown",
   "metadata": {},
   "source": [
    "# Problem Statement\n",
    "\n",
    "Diabetes is a common and chronic illness that presents a substantial threat to human well-being. It is marked by elevated blood glucose levels, a condition that arises from issues with insulin secretion, impaired insulin biological effects, or a combination of these factors<a name=\"lonappan\"></a>[<sup>[3]</sup>](#lonappannote). Early prediction of diabetes can significantly contribute to effective management and prevention of complications. Our goal is to predict the likelihood of an individual developing diabetes. Taking into consideration hypertension, heart disease, smoking history, BMI (body mass index), HbA1c (Hemoglobin A1c level) and blood glucose level. We are considering the use of two models, SVM and Logistic Regression. Both of these models have been widely used and have shown promising results in similar prediction tasks."
   ]
  },
  {
   "cell_type": "markdown",
   "metadata": {},
   "source": [
    "# Data\n",
    "\n",
    "- Link to out data set https://www.kaggle.com/datasets/iammustafatz/diabetes-prediction-dataset \n",
    "\n",
    "\n",
    "- 9 variables and 100k observations\n",
    "\n",
    "\n",
    "- An observation consist of:\n",
    "\n",
    "    - *Gender* - This data set contains three categories in it male ,female and other.\n",
    "    - *Age* : Age ranges from 0-80 in our dataset    \n",
    "    - *Hypertension* - It has values a 0 or 1 where 0 indicates they don’t have hypertension and for 1 it means they have hypertension\n",
    "    - *Heart disease* - It has values a 0 or 1 where 0 indicates they don’t have heart disease and for 1 it means they have heart disease.\n",
    "    - *Smoking history* - In this data set there are 5 categories i.e not current,former,No Info,current,never and ever.\n",
    "    - *Body Mass Index (BMI)* - The range of BMI in the dataset is from 10.16 to 71.55. BMI less than 18.5 is underweight, 18.5-24.9 is normal, 25-29.9 is overweight, and 30 or more is obese.\n",
    "    - *HbA1c level* - HbA1c (Hemoglobin A1c) level is a measure of a person's average blood sugar level over the past 2-3 months. Higher levels indicate a greater risk of developing diabetes. Mostly more than 6.5% of HbA1c Level indicates diabetes.\n",
    "    - *Blood glucose level*  - number that refers to the amount of glucose in the bloodstream at a given time. High bloog glucose is a key indicator of diabetes.\n",
    "    - *Diabetes* - Diabetes is the target variable being predicted, with values of 1 indicating the presence of diabetes and 0 indicating the absence of diabetes.\n",
    "\n",
    "\n",
    "    \n",
    "- How are critical Variables represented:\n",
    "\n",
    "    'gender' represented as String male, female and other. 'smoking_history' represented as a String as well: not current, former, No Info, current, never and ever. \n",
    "\n",
    "    'age', 'hypertension', 'heart_disease', 'bmi', 'HbA1c level', 'blood_glucose_level' and 'diabetes' variables are continuous integers. \n",
    "    \n",
    "    \n",
    "- Scaling would be needed for PCA, logistic regression, and SVM\n"
   ]
  },
  {
   "cell_type": "markdown",
   "metadata": {},
   "source": [
    "# Proposed Solution\n",
    "\n",
    "\n",
    "**Logistic Regression for Diabetes Prediction**\n",
    "\n",
    "First, we will choose the binary logistic regression as our solution. Our categories to predict are two—will develop diabetes or not. To do this, our algorithm will use variables like age, hypertension, history of heart disease, BMI, and HbA1c level to calculate the probability of the patient developing diabetes and not developing the disease. The probability is calculated using a function based on the sigmoid function to map whether an observation belongs the “will develop diabetes” or the negative class. Using one-hot encoding, the algorithm can handle both categorical and continuous features of the input dataset.\n",
    "\n",
    "We will use the scikit-learn library, the class LogisticRegression, and the functions fit() and predict()\n",
    "\n",
    "We will first simply train different models using 30% of the dataset, validate using another 30% to pick the best model, and test the model on another 30% of the dataset. For metrics, we will try accuracy, ROC-AUC curve, and precision-recall curve.\n",
    "\n",
    "\n",
    "\n",
    "**SVM Model for Diabetes Prediction**\n",
    "\n",
    "One potential solution to predict the likelihood of diabetes is to use a Support Vector Machine (SVM) model. SVM is a powerful machine learning algorithm for classification tasks. \n",
    "\n",
    "By training the SVM model on a labeled dataset with relevant features such as gender, age, hypertension, heart disease, smoking history, BMI (body mass index), HbA1c (Hemoglobin A1c level) and blood glucose level, it can learn complex relationships and classify new instances accurately. Implementation can be done using scikit-learn in Python, allowing for reproducibility. Model performance can be evaluated using metrics like accuracy, precision, recall, and F1 score, and compared with other algorithms commonly used in diabetes prediction.\n",
    "\n"
   ]
  },
  {
   "cell_type": "markdown",
   "metadata": {},
   "source": [
    "# Evaluation Metrics\n",
    "\n",
    "1. **Accuracy** : \n",
    "\n",
    "Accuracy measures the proportion of correctly classified instances over the total number of instances. In our case, accuracy represents the percentage of correct predictions made by the model.\n",
    "\n",
    "Example: If the model predicts 700 out of 1000 instances correctly, the accuracy would be 70%\n",
    "\n",
    "2. **ROC-AUC** : \n",
    "\n",
    "ROC-AUC evaluates the tradeoff between the true positive rate and the false positive rate by calculating the area under the receiver operating characteristic curve. It provides a measure of how well the model can distinguish between positive and negative instances.\n",
    "\n",
    "Example: A ROC-AUC of 0.75 means that the model can correctly rank 75% of positive instances higher than negative instances\n",
    "\n",
    "3. **Precision-recall** :\n",
    "\n",
    "This curve will show the tradeoff between the y axis precision (TP / (TP + FP)) and the x axis recall (TP / (TP + FN). We want to avoid as many FN as possible so that people do get the treatments they need. We then expect recall to stay high (right side of the x axis) while the precision varies (up and down the y axis) as we change the algorithms and models.\n"
   ]
  },
  {
   "cell_type": "markdown",
   "metadata": {},
   "source": [
    "# Ethics & Privacy"
   ]
  },
  {
   "cell_type": "markdown",
   "metadata": {},
   "source": [
    "\n",
    "1. **Data Privacy** : Our model uses medical and demographic features, such as age, gender, and medical conditions, to predict the development of diabetes. Therefore, this raises concerns about the privacy and confidentiality of an individual’s personal information. It is important to ensure that appropriate measures are taken to anonymize and protect sensitive data to prevent misuse.\n",
    "\n",
    "\n",
    "2. **Informed Consent:** It is important to obtain informed consent from individuals whose data is being used for the analysis.\n",
    "\n",
    "\n",
    "3. **Misdiagnosis:** Misdiagnosis can have negative effects on an individual's lives. It is important to communicate the results with caution, as false results can lead to unnecessary anxiety, stress, or delayed medical attention.\n"
   ]
  },
  {
   "cell_type": "markdown",
   "metadata": {},
   "source": [
    "# Team Expectations "
   ]
  },
  {
   "cell_type": "markdown",
   "metadata": {},
   "source": [
    "\n",
    "* Our main form of communication will be through our discord group chat\n",
    "* We plan to have 1 or 2 meetings a week where everyone is expected to attend and this is where we will assign each other work and make sure everyone is on track with their parts\n",
    "* To schedule meetings we will use WhenToMeet to figure out when we are all free\n",
    "* We expect everyone to put in the same amount of work so we will split work evenly\n",
    "* If someone is not doing their part we will hold them accountable at our meetings and we will contact a TA if the problem continues\n",
    "* We will take into account everyone’s schedules when setting goals and deadlines\n",
    "* We will set deadlines for each other earlier than the actual due date so that we can review each other's work before submitting\n",
    "* We expect everyone to notify the discord group chat as soon as possible if they can’t meet deadlines or will miss meetings\n"
   ]
  },
  {
   "cell_type": "markdown",
   "metadata": {},
   "source": [
    "# Project Timeline Proposal"
   ]
  },
  {
   "cell_type": "markdown",
   "metadata": {},
   "source": [
    "Replace this with something meaningful that is appropriate for your needs. It doesn't have to be something that fits this format.  It doesn't have to be set in stone... \"no battle plan survives contact with the enemy\". But you need a battle plan nonetheless, and you need to keep it updated so you understand what you are trying to accomplish, who's responsible for what, and what the expected due dates are for each item.\n",
    "\n",
    "| Meeting Date  | Meeting Time| Completed Before Meeting  | Discuss at Meeting |\n",
    "|---|---|---|---|\n",
    "| 5/15  |  10-11 PM |  Find a topic and a few datasets(all)  | Determine topic and dataset, write abstract, problem statement, expectations, and timeline | \n",
    "| 5/16 & 5/17|  NA |  Work on proposal. Each member of the team was assigned a part to complete. No meeting | Finish project proposal | \n",
    "| 5/25  | 1-3PM  | Review the peer review comments (due May 24) | Fix peer review |\n",
    "| 5/26 or 5/29  | TBD  | Start working on checkpoints | Finalize the checkpoints  |\n",
    "| 6/12 or 6/13  | TBD  | Finalize everything we planned | Finalize the writing. Discuss/edit project code; Complete project |\n",
    "| 6/14  | Before 11:59 PM  | NA | Turn in Final Project  |"
   ]
  },
  {
   "cell_type": "markdown",
   "metadata": {},
   "source": [
    "# Footnotes\n",
    "<a name=\"diabetes_definition\"></a>1.[^](#diabetes): “Diabetes.” World Health Organization, www.who.int/health-topics/diabetes#tab=tab_1. Accessed 15 May 2023. <br> \n",
    "<a name=\"reportnote\"></a>2.[^](#report): “National Diabetes Statistics Report.” Centers for Disease Control and Prevention, 29 June 2022, www.cdc.gov/diabetes/data/statistics-report/index.html. <br>\n",
    "<a name=\"lonappannote\"></a>3.[^](#lonappan): Lonappan, A., Bindu, G., Thomas, V., Jacob, J., Rajasekaran, C., and Mathew, K. T. (2007). Diagnosis of diabetes mellitus using microwaves. J. Electromagnet. Wave. 21, 1393–1401. doi: 10.1163/156939307783239429\n"
   ]
  },
  {
   "cell_type": "code",
   "execution_count": null,
   "metadata": {},
   "outputs": [],
   "source": []
  }
 ],
 "metadata": {
  "kernelspec": {
   "display_name": "Python 3 (ipykernel)",
   "language": "python",
   "name": "python3"
  },
  "language_info": {
   "codemirror_mode": {
    "name": "ipython",
    "version": 3
   },
   "file_extension": ".py",
   "mimetype": "text/x-python",
   "name": "python",
   "nbconvert_exporter": "python",
   "pygments_lexer": "ipython3",
   "version": "3.9.5"
  }
 },
 "nbformat": 4,
 "nbformat_minor": 2
}
